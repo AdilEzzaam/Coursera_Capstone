{
 "metadata": {
  "language_info": {
   "codemirror_mode": {
    "name": "ipython",
    "version": 3
   },
   "file_extension": ".py",
   "mimetype": "text/x-python",
   "name": "python",
   "nbconvert_exporter": "python",
   "pygments_lexer": "ipython3",
   "version": "3.6.8-final"
  },
  "orig_nbformat": 2,
  "kernelspec": {
   "name": "python_defaultSpec_1601303590135",
   "display_name": "Python 3.6.8 64-bit"
  }
 },
 "nbformat": 4,
 "nbformat_minor": 2,
 "cells": [
  {
   "source": [
    "<h1> Captsone Project - Car Accident Severity </h1>"
   ],
   "cell_type": "markdown",
   "metadata": {}
  },
  {
   "source": [
    "<h2> Introduction/Business Problem </h2>\n",
    "\n",
    "Montreal, the 2nd most populated city in Canada has more than 4 millions population with a slow growth of 0.73% average every year. It also has a population density of 4,517 per KM², covering 431.5 km² of land. Montreal is also known as the city with 2nd largest economy in Canada by having a variety of businesses implementing themselves out there. As a place with growing work possibilities, many people consider moving there. On the other hand, you can expect traffic with that much people and the economical activity. Along traffic, car accidents is also a frequent thing in the french city and severity of the events are ranging from minor damage to casualties. \n",
    "\n",
    "If an event had to happen, We would like to know case study will use machine learning algorithms to predict future event severity. This process targets the city's civil engineers and any road responsible in case those incidents are street related. This could also interest the ones who would like to open a car body shop to repair vehicules related to these events.\n",
    "\n",
    "<h2> Data Description </h2>\n",
    "\n",
    "Data :<br>\n",
    "\n",
    "All accidents records in Montreal.<br>\n",
    "- Data pulled from the city of Montreal website in the format of a CSV file.\n",
    "- Severity(From minor material damage(1), material damage only(2), light(3) and severe injuries(4) and casualties(5))\n",
    "- Amount of type of vehicules(cars, trucks, bicycle, motocycle and etc.)\n",
    "- Type of event(Object on which another collided on)\n",
    "- Number of injures, casualties\n",
    "- Locations (Longitude and Latitude)    \n",
    "\n",
    "How : \n",
    "\n",
    "Several platform and techniques will be used during this report.\n",
    "- Python as the interpreter language. As R, extensively used in Data analytic field. Useful for the diversity of libraries.\n",
    "- Geocoders to convert address into coordinates value.\n",
    "- Pandas for dataframe manipulation.\n",
    "- Folium for map vizualization with our point of interest(Neighbordhoods and venues).\n",
    "- Machine Learning Clustering algorithm such as K Means, Decision Trees, Support Vector Machine and Logistic Regression.\n"
   ],
   "cell_type": "markdown",
   "metadata": {}
  },
  {
   "cell_type": "code",
   "execution_count": null,
   "metadata": {},
   "outputs": [],
   "source": []
  }
 ]
}