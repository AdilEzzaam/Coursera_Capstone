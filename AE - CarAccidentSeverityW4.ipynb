{
 "metadata": {
  "language_info": {
   "codemirror_mode": {
    "name": "ipython",
    "version": 3
   },
   "file_extension": ".py",
   "mimetype": "text/x-python",
   "name": "python",
   "nbconvert_exporter": "python",
   "pygments_lexer": "ipython3",
   "version": "3.6.8-final"
  },
  "orig_nbformat": 2,
  "kernelspec": {
   "name": "Python 3.6.8 64-bit",
   "display_name": "Python 3.6.8 64-bit",
   "metadata": {
    "interpreter": {
     "hash": "c8cabf4ebf37102d556a88573d5c57fb90f7acbbfbaca7deb6657c80219f6d07"
    }
   }
  }
 },
 "nbformat": 4,
 "nbformat_minor": 2,
 "cells": [
  {
   "source": [
    "<h1> Captsone Project - Car Accident Severity </h1>"
   ],
   "cell_type": "markdown",
   "metadata": {}
  },
  {
   "source": [
    "<h2> Introduction/Business Problem </h2>\n",
    "\n",
    "Montreal, the 2nd most populated city in Canada has more than 4 millions population with a slow growth of 0.73% average every year. It also has a population density of 4,517 per KM², covering 431.5 km² of land. Montreal is also known as the city with 2nd largest economy in Canada by having a variety of businesses implementing themselves out there. As a place with growing work possibilities, many people consider moving there. On the other hand, you can expect traffic with that much people and the economical activity. Along traffic, car accidents is also a frequent thing in the french city and severity of the events are ranging from minor damage to casualties. \n",
    "\n",
    "If an event had to happen, We would like to know case study will use machine learning algorithms to predict future event severity. This process targets the city's civil engineers and any road responsible in case those incidents are street related. This could also interest the ones who would like to open a car body shop to repair vehicules related to these events.\n",
    "\n",
    "<h2> Data Description </h2>\n",
    "\n",
    "Data :<br>\n",
    "\n",
    "All accidents records in Montreal.<br>\n",
    "- Data pulled from the city of Montreal website in the format of a CSV file.\n",
    "- Severity(From minor material damage(1), material damage only(2), light(3) and severe injuries(4) and casualties(5))\n",
    "- Amount of type of vehicules(cars, trucks, bicycle, motocycle and etc.)\n",
    "- Type of event(Object on which another collided on)\n",
    "- Number of injures, casualties\n",
    "- Locations (Longitude and Latitude)    \n",
    "\n",
    "How : \n",
    "\n",
    "Several platform and techniques will be used during this report.\n",
    "- Python as the interpreter language. As R, extensively used in Data analytic field. Useful for the diversity of libraries.\n",
    "- Geocoders to convert address into coordinates value.\n",
    "- Pandas for dataframe manipulation.\n",
    "- Folium for map vizualization with our point of interest(Neighbordhoods and venues).\n",
    "- Machine Learning Clustering algorithm such as K Means, Decision Trees, Support Vector Machine and Logistic Regression.\n"
   ],
   "cell_type": "markdown",
   "metadata": {}
  },
  {
   "cell_type": "code",
   "execution_count": 2,
   "metadata": {},
   "outputs": [],
   "source": [
    "url = \"http://donnees.ville.montreal.qc.ca/dataset/cd722e22-376b-4b89-9bc2-7c7ab317ef6b/resource/05deae93-d9fc-4acb-9779-e0942b5e962f/download/collisions_routieres.csv\"\n"
   ]
  },
  {
   "cell_type": "code",
   "execution_count": 7,
   "metadata": {
    "tags": []
   },
   "outputs": [
    {
     "output_type": "stream",
     "name": "stdout",
     "text": "Note: you may need to restart the kernel to use updated packages.\n"
    }
   ],
   "source": [
    "%pip install -q geocoder geopy folium bs4 pandas lxml html5lib sklearn matplotlib OSMPythonTools\n",
    "from bs4 import BeautifulSoup\n",
    "import pandas as pd\n",
    "from geopy.geocoders import Nominatim\n",
    "import geocoder\n",
    "import numpy as np\n",
    "import requests\n",
    "import io\n",
    "import matplotlib.pyplot as plt\n",
    "import unidecode\n",
    "import branca.colormap as cm\n",
    "from io import StringIO\n",
    "import folium\n",
    "import matplotlib.cm as cm\n",
    "import matplotlib.colors as colors\n",
    "from sklearn.cluster import KMeans\n",
    "from folium import plugins\n",
    "from folium.plugins import HeatMap"
   ]
  },
  {
   "cell_type": "code",
   "execution_count": 24,
   "metadata": {},
   "outputs": [],
   "source": [
    "s = requests.get(url).content\n",
    "carDF = pd.read_csv(io.StringIO(s.decode('utf-8')))\n",
    "#carDF.head()"
   ]
  },
  {
   "cell_type": "code",
   "execution_count": 27,
   "metadata": {},
   "outputs": [],
   "source": [
    "carDFLimited = pd.DataFrame([carDF.NO_SEQ_COLL,carDF.JR_SEMN_ACCDN,carDF.DT_ACCDN,carDF.AN,carDF.HEURE_ACCDN,carDF.GRAVITE,carDF.LOC_LAT,carDF.LOC_LONG]).transpose()"
   ]
  },
  {
   "cell_type": "code",
   "execution_count": 36,
   "metadata": {},
   "outputs": [
    {
     "output_type": "execute_result",
     "data": {
      "text/plain": "          NO_SEQ_COLL JR_SEMN_ACCDN    DT_ACCDN    AN        HEURE_ACCDN  \\\n0     SPVM _ 2012 _ 1            ME  2012/02/01  2012        Non précisé   \n1     SPVM _ 2012 _ 2            SA  2012/06/02  2012  15:00:00-15:59:00   \n2     SPVM _ 2012 _ 3            JE  2012/06/28  2012  08:00:00-08:59:00   \n3     SPVM _ 2012 _ 4            ME  2012/07/11  2012  09:00:00-09:59:00   \n4     SPVM _ 2012 _ 5            LU  2012/01/02  2012        Non précisé   \n..                ...           ...         ...   ...                ...   \n95   SPVM _ 2012 _ 96            ME  2012/02/22  2012  18:00:00-18:59:00   \n96   SPVM _ 2012 _ 97            VE  2012/02/24  2012  20:00:00-20:59:00   \n97   SPVM _ 2012 _ 98            VE  2012/02/24  2012  16:00:00-16:59:00   \n98   SPVM _ 2012 _ 99            VE  2012/02/24  2012  16:00:00-16:59:00   \n99  SPVM _ 2012 _ 100            VE  2012/02/24  2012  02:00:00-02:59:00   \n\n    GRAVITE  LOC_LAT LOC_LONG  \n0         1  45.4555 -73.8616  \n1         1  45.4877  -73.716  \n2         1  45.5143 -73.6828  \n3         1  45.4922 -73.5765  \n4         1  45.4893 -73.8501  \n..      ...      ...      ...  \n95        1   45.504 -73.8454  \n96        3  45.4907 -73.8536  \n97        1  45.4906 -73.8715  \n98        1  45.5058 -73.8221  \n99        1  45.4906 -73.8715  \n\n[100 rows x 8 columns]",
      "text/html": "<div>\n<style scoped>\n    .dataframe tbody tr th:only-of-type {\n        vertical-align: middle;\n    }\n\n    .dataframe tbody tr th {\n        vertical-align: top;\n    }\n\n    .dataframe thead th {\n        text-align: right;\n    }\n</style>\n<table border=\"1\" class=\"dataframe\">\n  <thead>\n    <tr style=\"text-align: right;\">\n      <th></th>\n      <th>NO_SEQ_COLL</th>\n      <th>JR_SEMN_ACCDN</th>\n      <th>DT_ACCDN</th>\n      <th>AN</th>\n      <th>HEURE_ACCDN</th>\n      <th>GRAVITE</th>\n      <th>LOC_LAT</th>\n      <th>LOC_LONG</th>\n    </tr>\n  </thead>\n  <tbody>\n    <tr>\n      <th>0</th>\n      <td>SPVM _ 2012 _ 1</td>\n      <td>ME</td>\n      <td>2012/02/01</td>\n      <td>2012</td>\n      <td>Non précisé</td>\n      <td>1</td>\n      <td>45.4555</td>\n      <td>-73.8616</td>\n    </tr>\n    <tr>\n      <th>1</th>\n      <td>SPVM _ 2012 _ 2</td>\n      <td>SA</td>\n      <td>2012/06/02</td>\n      <td>2012</td>\n      <td>15:00:00-15:59:00</td>\n      <td>1</td>\n      <td>45.4877</td>\n      <td>-73.716</td>\n    </tr>\n    <tr>\n      <th>2</th>\n      <td>SPVM _ 2012 _ 3</td>\n      <td>JE</td>\n      <td>2012/06/28</td>\n      <td>2012</td>\n      <td>08:00:00-08:59:00</td>\n      <td>1</td>\n      <td>45.5143</td>\n      <td>-73.6828</td>\n    </tr>\n    <tr>\n      <th>3</th>\n      <td>SPVM _ 2012 _ 4</td>\n      <td>ME</td>\n      <td>2012/07/11</td>\n      <td>2012</td>\n      <td>09:00:00-09:59:00</td>\n      <td>1</td>\n      <td>45.4922</td>\n      <td>-73.5765</td>\n    </tr>\n    <tr>\n      <th>4</th>\n      <td>SPVM _ 2012 _ 5</td>\n      <td>LU</td>\n      <td>2012/01/02</td>\n      <td>2012</td>\n      <td>Non précisé</td>\n      <td>1</td>\n      <td>45.4893</td>\n      <td>-73.8501</td>\n    </tr>\n    <tr>\n      <th>...</th>\n      <td>...</td>\n      <td>...</td>\n      <td>...</td>\n      <td>...</td>\n      <td>...</td>\n      <td>...</td>\n      <td>...</td>\n      <td>...</td>\n    </tr>\n    <tr>\n      <th>95</th>\n      <td>SPVM _ 2012 _ 96</td>\n      <td>ME</td>\n      <td>2012/02/22</td>\n      <td>2012</td>\n      <td>18:00:00-18:59:00</td>\n      <td>1</td>\n      <td>45.504</td>\n      <td>-73.8454</td>\n    </tr>\n    <tr>\n      <th>96</th>\n      <td>SPVM _ 2012 _ 97</td>\n      <td>VE</td>\n      <td>2012/02/24</td>\n      <td>2012</td>\n      <td>20:00:00-20:59:00</td>\n      <td>3</td>\n      <td>45.4907</td>\n      <td>-73.8536</td>\n    </tr>\n    <tr>\n      <th>97</th>\n      <td>SPVM _ 2012 _ 98</td>\n      <td>VE</td>\n      <td>2012/02/24</td>\n      <td>2012</td>\n      <td>16:00:00-16:59:00</td>\n      <td>1</td>\n      <td>45.4906</td>\n      <td>-73.8715</td>\n    </tr>\n    <tr>\n      <th>98</th>\n      <td>SPVM _ 2012 _ 99</td>\n      <td>VE</td>\n      <td>2012/02/24</td>\n      <td>2012</td>\n      <td>16:00:00-16:59:00</td>\n      <td>1</td>\n      <td>45.5058</td>\n      <td>-73.8221</td>\n    </tr>\n    <tr>\n      <th>99</th>\n      <td>SPVM _ 2012 _ 100</td>\n      <td>VE</td>\n      <td>2012/02/24</td>\n      <td>2012</td>\n      <td>02:00:00-02:59:00</td>\n      <td>1</td>\n      <td>45.4906</td>\n      <td>-73.8715</td>\n    </tr>\n  </tbody>\n</table>\n<p>100 rows × 8 columns</p>\n</div>"
     },
     "metadata": {},
     "execution_count": 36
    }
   ],
   "source": [
    "#carDF.isna()\n",
    "carDFLimited.replace({'GRAVITE': {\"Dommages matériels inférieurs au seuil de rapportage\": 1, \"Dommages matériels seulement\" : 2, \"Léger\" : 3, \"Grave\" : 4, \"Mortel\" : 5}},inplace=True)\n",
    "carDFLimited.head(100)\n",
    "#carDF['DATE'] = pd.to_datetime(montrealcrime['DATE'])"
   ]
  },
  {
   "cell_type": "code",
   "execution_count": null,
   "metadata": {},
   "outputs": [],
   "source": [
    "map = folium.Map(location=Montreal, zoom_start=11)\n",
    "plugins.ScrollZoomToggler().add_to(map)\n",
    "for borough,Type,lat,long in zip(carDFLimited['GRAVITE'],carDFLimited['Lat'],carDFLimited['Long']):\n",
    "    label = folium.Popup(borough, parse_html=True)\n",
    "    color='blue'\n",
    "    if Type == 'B':\n",
    "        color='blue'\n",
    "    else:\n",
    "        color='green'\n",
    "    folium.CircleMarker(\n",
    "        [lat, long],\n",
    "        radius=5,\n",
    "        popup=label,\n",
    "        color=color,\n",
    "        fill=True,\n",
    "        fill_color='#3186cc',\n",
    "        fill_opacity=0.7,\n",
    "        parse_html=False).add_to(map) \n",
    "map"
   ]
  }
 ]
}