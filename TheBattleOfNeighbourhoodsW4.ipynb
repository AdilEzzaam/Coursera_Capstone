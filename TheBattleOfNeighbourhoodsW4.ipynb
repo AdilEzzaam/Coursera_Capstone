{
 "cells": [
  {
   "cell_type": "markdown",
   "metadata": {},
   "source": [
    "<h1> Captsone Project - The Battle Of Neighbourhoods - Live in Montreal </h1>"
   ]
  },
  {
   "cell_type": "markdown",
   "metadata": {},
   "source": [
    "<h2> Introduction/Business Problem </h2>\n",
    "\n",
    "Montreal, the 2nd most populated city in Canada has more than 4 millions population with a slow growth of 0.73% average every year. Montreal is also known as the 2nd largest economy in Canada by having a variety of businesses implementing themselves out there. As the nest of opportunities, many big tech companies started considering the city to have new offices - Google, Facebook, Microsoft to name a few. \n",
    "\n",
    "In the case where an individual had to relocate for a job opportunity, what would be the best locations we could suggest him? The purpose of this report is to identify what would be the best options thru a data driven research. We will identify amneties and venues based on their ratings from which we will offer options based on the relocator preferences.\n",
    "\n",
    "This project targets mostly individuals that are not familiar with the city and that are searching a convenient borough where they can live. It will bring also options that fit the individual interest. As an example, an individual in the need of relocating, who likes parks, we expect him willing to be close to that type of venue.\n",
    "\n",
    "<h2> Data Description </h2>\n",
    "\n",
    "Data :<br>\n",
    "\n",
    "- Montreal city boroughs names with their coordinates (latitude and longitude).\n",
    "    - Data pulled from Wikipedia with the BeautifulSoup library. Alternatively, we could manually put the data in a CSV file.\n",
    "    - Will be used with Foursquare API data to define the best venues of each boroughs.\n",
    "    - We will use Folium to vizualize the different boroughs within Montreal.\n",
    "\n",
    "- Top 10 venues based on ratings, which include their type(e.g : Restaurants, Bars, Malls, Parks, etc.) and their location (latitude and logitude).\n",
    "    - For each 19 neighborhoods of Montreal. \n",
    "    - Clustering process with K-Mean algorithm to define more precisely where good venues and amneties are.\n",
    "    - Data will be vizualized on folium generated map.\n",
    "    - Will use the panda library to analyze and organize the data.\n",
    "\n",
    "How : \n",
    "\n",
    "Several platform and techniques will be used during this report.\n",
    "- Python as the interpreter language. As R, extensively used in Data analytic field. Useful for the diversity of libraries.\n",
    "- Geocoders to convert address into coordinates value.\n",
    "- Pandas for dataframe manipulation.\n",
    "- Folium for map vizualization with our point of interest(Neighbordhoods and venues).\n",
    "- Foursquare offers an API giving access to a wide range of data related to locations.\n",
    "- As a clustering algorithm, K-Mean will be used to define ideal locations.\n"
   ]
  }
 ],
 "metadata": {
  "language_info": {
   "codemirror_mode": {
    "name": "ipython",
    "version": 3
   },
   "file_extension": ".py",
   "mimetype": "text/x-python",
   "name": "python",
   "nbconvert_exporter": "python",
   "pygments_lexer": "ipython3",
   "version": "3.6.8-final"
  },
  "orig_nbformat": 2,
  "kernelspec": {
   "name": "python36864bit2d6f3537baa74ad48f0ba59c16f283ce",
   "display_name": "Python 3.6.8 64-bit"
  }
 },
 "nbformat": 4,
 "nbformat_minor": 2
}